{
 "cells": [
  {
   "cell_type": "code",
   "execution_count": 11,
   "id": "a5c2f584",
   "metadata": {},
   "outputs": [],
   "source": [
    "using JuMP, CPLEX\n",
    "using Plots\n",
    "using JLD"
   ]
  },
  {
   "cell_type": "code",
   "execution_count": 12,
   "id": "05c06e83",
   "metadata": {},
   "outputs": [
    {
     "data": {
      "text/plain": [
       "new_T (generic function with 1 method)"
      ]
     },
     "metadata": {},
     "output_type": "display_data"
    }
   ],
   "source": [
    "function new_T(node_values,lb,ub)\n",
    "\n",
    "function my_lcm(a, b)\n",
    "    return (a * b) ÷ gcd(a, b)\n",
    "end\n",
    "\n",
    "function dijkstra_lcm(graph, src, target)\n",
    "    n = length(keys(graph))+1\n",
    "    lcm_values = fill(Inf, n+1) \n",
    "    lcm_values[src] = 1\n",
    "    pq = [(1, src)]  # Priority queue of (lcm, vertex) tuples\n",
    "    visited = fill(false, n+1)\n",
    "    predecessors = fill(-1, n+1)  \n",
    "    \n",
    "    while !isempty(pq)\n",
    "        \n",
    "        pq = sort(pq,rev=true)\n",
    "        (current_lcm, u) = pop!(pq) \n",
    "        \n",
    "        if visited[u]\n",
    "            continue  \n",
    "        end\n",
    "\n",
    "        if u == target\n",
    "            path = [u]\n",
    "            while predecessors[u] != -1\n",
    "                push!(path, predecessors[u])\n",
    "                u = predecessors[u]\n",
    "            end\n",
    "            return current_lcm, reverse(path) \n",
    "        end\n",
    "\n",
    "        visited[u] = true \n",
    "\n",
    "        for (v, weight) in graph[u]\n",
    "        \n",
    "            new_lcm = my_lcm(current_lcm, weight)\n",
    "            if new_lcm < lcm_values[v]\n",
    "                lcm_values[v] = new_lcm\n",
    "                push!(pq, (new_lcm, v))\n",
    "                predecessors[v] = u\n",
    "            end\n",
    "        end\n",
    "    end\n",
    "\n",
    "    return -1  # Target not reachable\n",
    "end\n",
    "\n",
    "\n",
    "function create_graph(node_values)\n",
    "    n = length(node_values)\n",
    "    graph = Dict()\n",
    "\n",
    "    # Start vertex\n",
    "    graph[1] = sort(Dict(1 + i => v for (i, v) in enumerate(vertices_in_range(node_values[1]))))\n",
    "\n",
    "    # Core nodes\n",
    "    for i in 1:(n-1) \n",
    "        vertices = vertices_in_range(node_values[i])\n",
    "        next_vertices = vertices_in_range(node_values[i + 1])\n",
    "\n",
    "        k0=maximum(keys(graph))\n",
    "        k1=minimum(keys(graph[k0]))\n",
    "        k2=maximum(keys(graph[k0]))\n",
    "    \n",
    "        for (i, v) in enumerate(vertices)\n",
    "            graph[k1+i-1] = sort(Dict(k2 + j => u for (j, u) in enumerate(next_vertices)))\n",
    "        end\n",
    "    end\n",
    "\n",
    "    # End vertex\n",
    "        k0=maximum(keys(graph))\n",
    "        k1=minimum(keys(graph[k0]))\n",
    "        k2=maximum(keys(graph[k0]))\n",
    "        \n",
    "    vertices = vertices_in_range(node_values[n])  \n",
    "    for (i, v) in enumerate(vertices)\n",
    "        graph[k1+i-1] = Dict(k2 + 1 => 1)  \n",
    "    end\n",
    "\n",
    "    return graph\n",
    "end\n",
    "\n",
    "function vertices_in_range(pi)\n",
    "    lower = ceil(pi - lb*pi)\n",
    "    upper = floor(pi + ub*pi)\n",
    "    vertices = [] \n",
    "    step_size = 1  \n",
    "\n",
    "    value = lower\n",
    "    while value <= upper\n",
    "        push!(vertices,Int(value)) \n",
    "        value += step_size\n",
    "    end\n",
    "    vertices=sort(vertices)\n",
    "    return vertices\n",
    "end\n",
    "\n",
    "    \n",
    "graph = create_graph(node_values)\n",
    "k0=maximum(keys(graph))\n",
    "k1=maximum(keys(graph[k0]))\n",
    "start = 1\n",
    "target = k1\n",
    "graph1=sort(graph)\n",
    "shortest_path_lcm = dijkstra_lcm(graph, start, target)\n",
    "\n",
    "T_new=[]\n",
    "for (i,j) in enumerate(shortest_path_lcm[2][1:end-2])\n",
    "    push!(T_new,graph[j][shortest_path_lcm[2][i+1]])\n",
    "end\n",
    "\n",
    "    return T_new\n",
    "    \n",
    "end\n"
   ]
  },
  {
   "cell_type": "code",
   "execution_count": 13,
   "id": "bf6f6409",
   "metadata": {},
   "outputs": [
    {
     "name": "stdout",
     "output_type": "stream",
     "text": [
      "4620\n"
     ]
    }
   ],
   "source": [
    "using LinearAlgebra\n",
    "using JuMP, CPLEX\n",
    "using Plots\n",
    "using LinearAlgebra\n",
    "\n",
    "file = jldopen(\"data2.jld\", \"r\", mmaparrays=true) # change this value from data1 to data10\n",
    "D = read(file, \"D\") \n",
    "\n",
    "n = size(D, 2)\n",
    "g = gcd([D[1, :]..., D[2, :]...])\n",
    "#D = D / g\n",
    "C = D[1, :]\n",
    "F = D[2, :]\n",
    "T = sum(D, dims=1)\n",
    "t = lcm(map(Int, T))\n",
    "nums = Int(sum(T))\n",
    "T_max = maximum(T)\n",
    "println(t)\n"
   ]
  },
  {
   "cell_type": "code",
   "execution_count": 14,
   "id": "cb6d76c5",
   "metadata": {},
   "outputs": [],
   "source": [
    "A = zeros(n, nums)\n",
    "\n",
    "p_matrix = []\n",
    "A_matrix = []\n",
    "\n",
    "k = 1\n",
    "\n",
    "for i in 1:n\n",
    "    A[i, k:k+Int(T[i])-1] .= 1    # equality\n",
    "    k += Int(T[i])\n",
    "    \n",
    "    p_i = zeros(Int, Int(T[i]))\n",
    "    p_i[1:Int(C[i])] .= 1\n",
    "    push!(p_matrix, p_i)\n",
    "end\n",
    "\n",
    "A_bar = zeros(t, nums) # inequality\n",
    "\n",
    "for i in 1:t\n",
    "    k = 1\n",
    "    for j in 1:n\n",
    "        A_bar[i, k:k+Int(T[j])-1] .= circshift(p_matrix[j], i-1)\n",
    "        k += Int(T[j])\n",
    "    end\n",
    "    \n",
    "end\n"
   ]
  },
  {
   "cell_type": "code",
   "execution_count": 15,
   "id": "3879ccb6",
   "metadata": {},
   "outputs": [
    {
     "name": "stdout",
     "output_type": "stream",
     "text": [
      "Version identifier: 12.10.0.0 | 2019-11-26 | 843d4de\n",
      "Tried aggregator 1 time.\n",
      "Reduced MIP has 4630 rows, 735 columns, and 1848734 nonzeros.\n",
      "Reduced MIP has 734 binaries, 0 generals, 0 SOSs, and 0 indicators.\n",
      "Presolve time = 0.37 sec. (401.95 ticks)\n",
      "Found incumbent of value 10.000000 after 0.57 sec. (615.44 ticks)\n",
      "Probing time = 0.04 sec. (46.43 ticks)\n",
      "Tried aggregator 1 time.\n",
      "Detecting symmetries...\n",
      "Reduced MIP has 4630 rows, 735 columns, and 1848734 nonzeros.\n",
      "Reduced MIP has 734 binaries, 1 generals, 0 SOSs, and 0 indicators.\n",
      "Presolve time = 1.02 sec. (1607.92 ticks)\n",
      "Probing time = 0.05 sec. (46.43 ticks)\n",
      "Clique table members: 10.\n",
      "MIP emphasis: balance optimality and feasibility.\n",
      "MIP search method: dynamic search.\n",
      "Parallel mode: deterministic, using up to 8 threads.\n",
      "Root relaxation solution time = 5.36 sec. (3730.57 ticks)\n",
      "\n",
      "        Nodes                                         Cuts/\n",
      "   Node  Left     Objective  IInf  Best Integer    Best Bound    ItCnt     Gap\n",
      "\n",
      "*     0+    0                           10.0000        0.0000           100.00%\n",
      "      0     0        5.4413   143       10.0000        5.4413     4394   45.59%\n",
      "*     0+    0                            8.0000        5.4413            31.98%\n",
      "*     0+    0                            7.0000        6.0000            14.29%\n",
      "      0     0        6.0000   143        7.0000      Fract: 1     6557   14.29%\n",
      "      0     0        cutoff              7.0000        6.0000    10257   14.29%\n",
      "Elapsed time = 75.57 sec. (76677.31 ticks, tree = 0.01 MB, solutions = 3)\n",
      "\n",
      "Gomory fractional cuts applied:  1\n",
      "\n",
      "Root node processing (before b&c):\n",
      "  Real time             =   75.57 sec. (76677.37 ticks)\n",
      "Parallel b&c, 8 threads:\n",
      "  Real time             =    0.07 sec. (8.08 ticks)\n",
      "  Sync time (average)   =    0.01 sec.\n",
      "  Wait time (average)   =    0.00 sec.\n",
      "                          ------------\n",
      "Total (root+branch&cut) =   75.64 sec. (76685.44 ticks)\n"
     ]
    }
   ],
   "source": [
    "model=Model(CPLEX.Optimizer)\n",
    "\n",
    "@variable(model,x[1:nums],Bin)\n",
    "@variable(model,m)\n",
    "\n",
    "@constraint(model,A*x.==1)\n",
    "@constraint(model,A_bar*x.<=m)\n",
    "\n",
    "@objective(model,Min,m)\n",
    "\n",
    "optimize!(model)"
   ]
  },
  {
   "cell_type": "code",
   "execution_count": 16,
   "id": "09d06db3",
   "metadata": {},
   "outputs": [
    {
     "data": {
      "text/plain": [
       "7.0"
      ]
     },
     "metadata": {},
     "output_type": "display_data"
    }
   ],
   "source": [
    "value(m) # save value of m and time from previous step as without_waiting time"
   ]
  },
  {
   "cell_type": "code",
   "execution_count": 17,
   "id": "4ed827b4",
   "metadata": {},
   "outputs": [
    {
     "data": {
      "text/plain": [
       "504"
      ]
     },
     "metadata": {},
     "output_type": "display_data"
    }
   ],
   "source": [
    "# calculation of waiting time\n",
    "T_new=new_T(T,0.1,0.0)\n",
    "t1 = lcm(map(Int, T_new))\n",
    "\n",
    "N=t1./T_new  \n",
    "\n",
    "\n",
    "temp=T-T_new'\n",
    "for i in 1:n\n",
    "    D[2,i]=D[2,i]-temp[i]\n",
    "end\n",
    "\n",
    "\n",
    "C = D[1, :]\n",
    "F = D[2, :]\n",
    "g = gcd([D[1, :]..., D[2, :]...])\n",
    "#D = D / g\n",
    "T = sum(D, dims=1)\n",
    "t = lcm(map(Int, T))\n",
    "nums = Int(sum(T))\n",
    "T_max = maximum(T)\n",
    "\n",
    "t"
   ]
  },
  {
   "cell_type": "code",
   "execution_count": 18,
   "id": "e793d43d",
   "metadata": {},
   "outputs": [],
   "source": [
    "A = zeros(n, nums)\n",
    "\n",
    "p_matrix = []\n",
    "A_matrix = []\n",
    "\n",
    "k = 1\n",
    "\n",
    "for i in 1:n\n",
    "    A[i, k:k+Int(T[i])-1] .= 1    # equality\n",
    "    k += Int(T[i])\n",
    "    \n",
    "    p_i = zeros(Int, Int(T[i]))\n",
    "    p_i[1:Int(C[i])] .= 1\n",
    "    push!(p_matrix, p_i)\n",
    "end\n",
    "\n",
    "A_bar = zeros(t, nums) # inequality\n",
    "\n",
    "for i in 1:t\n",
    "    k = 1\n",
    "    for j in 1:n\n",
    "        A_bar[i, k:k+Int(T[j])-1] .= circshift(p_matrix[j], i-1)\n",
    "        k += Int(T[j])\n",
    "    end\n",
    "    \n",
    "end\n"
   ]
  },
  {
   "cell_type": "code",
   "execution_count": 19,
   "id": "11f9bd86",
   "metadata": {},
   "outputs": [
    {
     "name": "stdout",
     "output_type": "stream",
     "text": [
      "Version identifier: 12.10.0.0 | 2019-11-26 | 843d4de\n",
      "Tried aggregator 1 time.\n",
      "Reduced MIP has 514 rows, 708 columns, and 202307 nonzeros.\n",
      "Reduced MIP has 707 binaries, 0 generals, 0 SOSs, and 0 indicators.\n",
      "Presolve time = 0.04 sec. (52.69 ticks)\n",
      "Found incumbent of value 10.000000 after 0.06 sec. (76.17 ticks)\n",
      "Probing time = 0.01 sec. (12.36 ticks)\n",
      "Cover probing fixed 0 vars, tightened 1 bounds.\n",
      "Tried aggregator 1 time.\n",
      "Detecting symmetries...\n",
      "Reduced MIP has 514 rows, 708 columns, and 202307 nonzeros.\n",
      "Reduced MIP has 707 binaries, 1 generals, 0 SOSs, and 0 indicators.\n",
      "Presolve time = 0.08 sec. (136.42 ticks)\n",
      "Probing time = 0.01 sec. (9.81 ticks)\n",
      "Clique table members: 10.\n",
      "MIP emphasis: balance optimality and feasibility.\n",
      "MIP search method: dynamic search.\n",
      "Parallel mode: deterministic, using up to 8 threads.\n",
      "Root relaxation solution time = 0.39 sec. (931.80 ticks)\n",
      "\n",
      "        Nodes                                         Cuts/\n",
      "   Node  Left     Objective  IInf  Best Integer    Best Bound    ItCnt     Gap\n",
      "\n",
      "*     0+    0                           10.0000        1.0000            90.00%\n",
      "      0     0        5.6786   140       10.0000        5.6786     1518   43.21%\n",
      "*     0+    0                            7.0000        6.0000            14.29%\n",
      "      0     0        6.0000   140        7.0000      Fract: 2     2171   14.29%\n",
      "      0     2        6.0000    23        7.0000        6.0000     2247   14.29%\n",
      "Elapsed time = 2.25 sec. (4197.61 ticks, tree = 0.02 MB, solutions = 2)\n",
      "      2     3        6.0000    41        7.0000        6.0000     2477   14.29%\n",
      "     12     6    infeasible              7.0000        6.0000     3998   14.29%\n",
      "     44     9    infeasible              7.0000        6.0000     9784   14.29%\n",
      "     55     8    infeasible              7.0000        6.0000     6278   14.29%\n",
      "     80     8    infeasible              7.0000        6.0000    20207   14.29%\n",
      "     82     8    infeasible              7.0000        6.0000    13623   14.29%\n",
      "     85     8    infeasible              7.0000        6.0000    20638   14.29%\n",
      "     89     1    infeasible              7.0000        6.0000    37670   14.29%\n",
      "     94     1    infeasible              7.0000        6.0000    40407   14.29%\n",
      "     99     1    infeasible              7.0000        6.0000    47066   14.29%\n",
      "Elapsed time = 4.92 sec. (8796.31 ticks, tree = 0.02 MB, solutions = 2)\n",
      "    105     1    infeasible              7.0000        6.0000    54934   14.29%\n",
      "    107     1    infeasible              7.0000        6.0000    58943   14.29%\n",
      "\n",
      "Root node processing (before b&c):\n",
      "  Real time             =    2.21 sec. (4136.66 ticks)\n",
      "Parallel b&c, 8 threads:\n",
      "  Real time             =    4.21 sec. (8036.52 ticks)\n",
      "  Sync time (average)   =    2.85 sec.\n",
      "  Wait time (average)   =    0.00 sec.\n",
      "                          ------------\n",
      "Total (root+branch&cut) =    6.42 sec. (12173.18 ticks)\n"
     ]
    }
   ],
   "source": [
    "model=Model(CPLEX.Optimizer)\n",
    "\n",
    "@variable(model,x[1:nums],Bin)\n",
    "@variable(model,m)\n",
    "\n",
    "\n",
    "@constraint(model,A*x.==1)\n",
    "@constraint(model,A_bar*x.<=m)\n",
    "\n",
    "\n",
    "@objective(model,Min,m)\n",
    "\n",
    "optimize!(model)"
   ]
  },
  {
   "cell_type": "code",
   "execution_count": 20,
   "id": "a3fa2d57",
   "metadata": {},
   "outputs": [
    {
     "data": {
      "text/plain": [
       "7.0"
      ]
     },
     "metadata": {},
     "output_type": "display_data"
    }
   ],
   "source": [
    "value(m) # save value of m and time from previous step"
   ]
  }
 ],
 "metadata": {
  "kernelspec": {
   "display_name": "Julia 1.10.3",
   "language": "julia",
   "name": "julia-1.10"
  },
  "language_info": {
   "file_extension": ".jl",
   "mimetype": "application/julia",
   "name": "julia",
   "version": "1.10.3"
  }
 },
 "nbformat": 4,
 "nbformat_minor": 5
}
