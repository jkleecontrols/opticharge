{
 "cells": [
  {
   "cell_type": "code",
   "execution_count": 2,
   "metadata": {},
   "outputs": [],
   "source": [
    "from gurobipy import*\n",
    "import numpy as np"
   ]
  },
  {
   "cell_type": "code",
   "execution_count": 36,
   "metadata": {},
   "outputs": [],
   "source": [
    "from gurobipy import*\n",
    "import numpy as np\n",
    "\n",
    "D = np.array([[5, 5, 5, 5, 5, 5, 10, 15, 20, 25], # charging\n",
    "              [20, 25, 20, 15, 25, 30, 30, 25, 30, 35]]) # flying\n",
    "m = 5 # number of charging pads\n",
    "n = D.shape[1] # number of vehicles\n",
    "g = np.gcd.reduce(np.concatenate((D[0, :], D[1, :]), axis=None)) # 5 최대공약수\n",
    "D = D / g \n",
    "C = D[0, :]\n",
    "T = D.sum(axis=0)\n",
    "t = np.lcm.reduce(T.astype(int)) # 840 최소공배수\n",
    "nums = int(sum(T)) # 총 운행시간 합계\n",
    "T_max = int(max(T)) \n",
    "\n",
    "\n",
    "A = np.zeros((n, nums + 1)) # 10 x 72\n",
    "p_matrix = []\n",
    "q_matrix = []\n",
    "\n",
    "k = 0\n",
    "\n",
    "for i in range(n):\n",
    "    A[i, k:k + int(T[i])] = np.ones(int(T[i]))  # equality\n",
    "    k = k + int(T[i])\n",
    "\n",
    "    p_i = np.zeros(int(T[i]))\n",
    "    q_i = np.ones(int(T[i]))\n",
    "    p_i[0:int(C[i])] = np.ones(int(C[i]))\n",
    "    q_i[0:int(C[i])] = np.zeros(int(C[i]))\n",
    "    p_matrix.append(p_i)\n",
    "    q_matrix.append(q_i)\n",
    "\n",
    "A_bar = np.zeros((t, nums))  # inequality\n",
    "K_bar = np.zeros((t, nums))\n",
    "\n",
    "for i in range(t):\n",
    "    k = 0\n",
    "    for j in range(n):\n",
    "        A_bar[i, k:k + int(T[j])] = np.roll(p_matrix[j], shift=i, axis=0)\n",
    "        K_bar[i, k:k + int(T[j])] = np.roll(q_matrix[j], shift=i, axis=0)\n",
    "        k = k + int(T[j])\n",
    "    # A_bar[i, -1] = -1\n",
    "\n",
    "b = np.ones(n) # vehicle 수만큼\n",
    "b_bar = np.zeros(t) # \n"
   ]
  },
  {
   "cell_type": "code",
   "execution_count": 39,
   "metadata": {},
   "outputs": [
    {
     "data": {
      "text/plain": [
       "array([[0., 0., 0., ..., 0., 0., 0.],\n",
       "       [0., 0., 0., ..., 0., 0., 0.],\n",
       "       [0., 0., 0., ..., 0., 0., 0.],\n",
       "       ...,\n",
       "       [0., 0., 0., ..., 0., 0., 0.],\n",
       "       [0., 0., 0., ..., 0., 0., 0.],\n",
       "       [0., 0., 0., ..., 0., 0., 0.]])"
      ]
     },
     "execution_count": 39,
     "metadata": {},
     "output_type": "execute_result"
    }
   ],
   "source": [
    "lbofw = np.zeros((t,n))\n",
    "ubofw = np.ones((t,n))\n",
    "\n",
    "lb = np.zeros(nums)\n",
    "ub = np.ones(nums)\n",
    "\n",
    "lbofw"
   ]
  },
  {
   "cell_type": "code",
   "execution_count": 40,
   "metadata": {},
   "outputs": [
    {
     "data": {
      "text/plain": [
       "array([ 5.,  6.,  5.,  4.,  6.,  7.,  8.,  8., 10., 12.])"
      ]
     },
     "execution_count": 40,
     "metadata": {},
     "output_type": "execute_result"
    }
   ],
   "source": [
    "T"
   ]
  }
 ],
 "metadata": {
  "kernelspec": {
   "display_name": "venv",
   "language": "python",
   "name": "python3"
  },
  "language_info": {
   "codemirror_mode": {
    "name": "ipython",
    "version": 3
   },
   "file_extension": ".py",
   "mimetype": "text/x-python",
   "name": "python",
   "nbconvert_exporter": "python",
   "pygments_lexer": "ipython3",
   "version": "3.9.6"
  }
 },
 "nbformat": 4,
 "nbformat_minor": 2
}
